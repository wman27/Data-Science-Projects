{
 "cells": [
  {
   "cell_type": "code",
   "execution_count": 2,
   "metadata": {},
   "outputs": [],
   "source": [
    "import tweepy\n",
    "from tweepy import OAuthHandler"
   ]
  },
  {
   "cell_type": "code",
   "execution_count": 3,
   "metadata": {},
   "outputs": [],
   "source": [
    "consumer_key = 'YOUR_KEY'\n",
    "consumer_secret = 'YOUR_SECRET'\n",
    "access_token = 'YOUR_TOKEN'\n",
    "access_secret = 'YOUR_TOKEN_SECRET'"
   ]
  },
  {
   "cell_type": "code",
   "execution_count": 4,
   "metadata": {},
   "outputs": [],
   "source": [
    "auth = OAuthHandler(consumer_key,consumer_secret)\n",
    "auth.set_access_token(access_token,access_secret)\n",
    "api = tweepy.API(auth)"
   ]
  },
  {
   "cell_type": "code",
   "execution_count": 60,
   "metadata": {},
   "outputs": [
    {
     "data": {
      "text/plain": [
       "'from tweepy import Stream\\nfrom tweepy.streaming import StreamListener\\n \\nclass MyListener(StreamListener):\\n \\n    def on_data(self, data):\\n        try:\\n            with open(\\'juvreal.json\\', \\'a\\') as f:\\n                f.write(data)\\n                return True\\n        except BaseException as e:\\n            print(\"Error on_data: %s\" % str(e))\\n        return True\\n \\n    def on_error(self, status):\\n        print(status)\\n        return True\\n \\ntwitter_stream = Stream(auth, MyListener())\\ntwitter_stream.filter(track=[\\'#JuveReal\\'])'"
      ]
     },
     "execution_count": 60,
     "metadata": {},
     "output_type": "execute_result"
    }
   ],
   "source": [
    "# the stream to gather tweets about an event or topic based on the search term\n",
    "\n",
    "from tweepy import Stream\n",
    "from tweepy.streaming import StreamListener\n",
    " \n",
    "class MyListener(StreamListener):\n",
    " \n",
    "    def on_data(self, data):\n",
    "        try:\n",
    "            with open('yourjsonfile.json', 'a') as f:\n",
    "                f.write(data)\n",
    "                return True\n",
    "        except BaseException as e:\n",
    "            print(\"Error on_data: %s\" % str(e))\n",
    "        return True\n",
    " \n",
    "    def on_error(self, status):\n",
    "        print(status)\n",
    "        return True\n",
    " \n",
    "twitter_stream = Stream(auth, MyListener())\n",
    "twitter_stream.filter(track=['YOUR_SEARCH_TERM'])"
   ]
  },
  {
   "cell_type": "code",
   "execution_count": null,
   "metadata": {},
   "outputs": [],
   "source": []
  },
  {
   "cell_type": "code",
   "execution_count": null,
   "metadata": {},
   "outputs": [],
   "source": []
  },
  {
   "cell_type": "code",
   "execution_count": 1,
   "metadata": {},
   "outputs": [],
   "source": [
    "import json"
   ]
  },
  {
   "cell_type": "code",
   "execution_count": 2,
   "metadata": {},
   "outputs": [
    {
     "name": "stdout",
     "output_type": "stream",
     "text": [
      "{\n",
      "    \"source\": \"<a href=\\\"http://twitter.com/download/iphone\\\" rel=\\\"nofollow\\\">Twitter for iPhone</a>\",\n",
      "    \"in_reply_to_user_id\": null,\n",
      "    \"retweeted\": false,\n",
      "    \"text\": \"Bah... meh... \\ud83d\\ude36 #JuveReal\",\n",
      "    \"user\": {\n",
      "        \"profile_background_tile\": false,\n",
      "        \"name\": \"Kristina\",\n",
      "        \"default_profile\": false,\n",
      "        \"description\": \"Mum. In love. Coffee lover \\u2615\\ufe0f Football enthusiast.\",\n",
      "        \"followers_count\": 354,\n",
      "        \"contributors_enabled\": false,\n",
      "        \"screen_name\": \"XtinaTinka\",\n",
      "        \"profile_background_color\": \"94D487\",\n",
      "        \"following\": null,\n",
      "        \"profile_sidebar_fill_color\": \"DDEEF6\",\n",
      "        \"translator_type\": \"none\",\n",
      "        \"id\": 1354881960,\n",
      "        \"notifications\": null,\n",
      "        \"is_translator\": false,\n",
      "        \"lang\": \"en\",\n",
      "        \"profile_banner_url\": \"https://pbs.twimg.com/profile_banners/1354881960/1521128850\",\n",
      "        \"profile_background_image_url\": \"http://pbs.twimg.com/profile_background_images/527540772266995712/yKB6vpva.jpeg\",\n",
      "        \"utc_offset\": 7200,\n",
      "        \"location\": null,\n",
      "        \"profile_image_url\": \"http://pbs.twimg.com/profile_images/764788777000824832/eYKh4Zg9_normal.jpg\",\n",
      "        \"profile_image_url_https\": \"https://pbs.twimg.com/profile_images/764788777000824832/eYKh4Zg9_normal.jpg\",\n",
      "        \"id_str\": \"1354881960\",\n",
      "        \"protected\": false,\n",
      "        \"verified\": false,\n",
      "        \"default_profile_image\": false,\n",
      "        \"profile_link_color\": \"9266CC\",\n",
      "        \"profile_background_image_url_https\": \"https://pbs.twimg.com/profile_background_images/527540772266995712/yKB6vpva.jpeg\",\n",
      "        \"geo_enabled\": true,\n",
      "        \"favourites_count\": 4264,\n",
      "        \"friends_count\": 235,\n",
      "        \"profile_use_background_image\": true,\n",
      "        \"statuses_count\": 9474,\n",
      "        \"profile_sidebar_border_color\": \"FFFFFF\",\n",
      "        \"profile_text_color\": \"0084B4\",\n",
      "        \"url\": null,\n",
      "        \"listed_count\": 3,\n",
      "        \"time_zone\": \"Ljubljana\",\n",
      "        \"created_at\": \"Mon Apr 15 17:34:58 +0000 2013\",\n",
      "        \"follow_request_sent\": null\n",
      "    },\n",
      "    \"entities\": {\n",
      "        \"user_mentions\": [],\n",
      "        \"hashtags\": [\n",
      "            {\n",
      "                \"indices\": [\n",
      "                    16,\n",
      "                    25\n",
      "                ],\n",
      "                \"text\": \"JuveReal\"\n",
      "            }\n",
      "        ],\n",
      "        \"urls\": [],\n",
      "        \"symbols\": []\n",
      "    },\n",
      "    \"id\": 981269690440978433,\n",
      "    \"retweet_count\": 0,\n",
      "    \"filter_level\": \"low\",\n",
      "    \"geo\": null,\n",
      "    \"lang\": \"in\",\n",
      "    \"in_reply_to_user_id_str\": null,\n",
      "    \"favorite_count\": 0,\n",
      "    \"truncated\": false,\n",
      "    \"timestamp_ms\": \"1522787899967\",\n",
      "    \"in_reply_to_screen_name\": null,\n",
      "    \"in_reply_to_status_id_str\": null,\n",
      "    \"contributors\": null,\n",
      "    \"place\": null,\n",
      "    \"id_str\": \"981269690440978433\",\n",
      "    \"is_quote_status\": false,\n",
      "    \"in_reply_to_status_id\": null,\n",
      "    \"reply_count\": 0,\n",
      "    \"created_at\": \"Tue Apr 03 20:38:19 +0000 2018\",\n",
      "    \"coordinates\": null,\n",
      "    \"quote_count\": 0,\n",
      "    \"favorited\": false\n",
      "}\n"
     ]
    }
   ],
   "source": [
    "#check the structure of a tweet\n",
    "\n",
    "with open('juvreal.json', 'r') as f:\n",
    "    line = f.readline() # read only the first tweet/line\n",
    "    tweet = json.loads(line) # load it as Python dict\n",
    "    print(json.dumps(tweet, indent=4)) # pretty-print"
   ]
  },
  {
   "cell_type": "code",
   "execution_count": 6,
   "metadata": {},
   "outputs": [],
   "source": [
    "#tokenizing a tweet\n",
    "\n",
    "from nltk.tokenize import TweetTokenizer\n",
    "from collections import Counter\n",
    "from nltk.corpus import stopwords\n",
    "import string"
   ]
  },
  {
   "cell_type": "code",
   "execution_count": 7,
   "metadata": {},
   "outputs": [],
   "source": [
    "tknzr = TweetTokenizer(strip_handles=True)"
   ]
  },
  {
   "cell_type": "code",
   "execution_count": 8,
   "metadata": {},
   "outputs": [],
   "source": [
    "# list of words, punctuation and emoticons to get rid of when tokenizing a tweet\n",
    "\n",
    "punctuation = list(string.punctuation)\n",
    "other = [':\\\\','null',':[','false',':{','🔴','⚪','RT','…','️','...','la','di','che','e','il','è','un','per','de','’','non',\n",
    "        '⚽','😂','ha','si','da','’','non','🇪']\n",
    "stop = stopwords.words('english')+stopwords.words('spanish') + stopwords.words('french') + punctuation + other "
   ]
  },
  {
   "cell_type": "code",
   "execution_count": 17,
   "metadata": {},
   "outputs": [],
   "source": [
    "#process all tweets to check for hashtags, time of creation, language of tweet and source of the tweet\n",
    "\n",
    "terms = []\n",
    "time = []\n",
    "language = []\n",
    "source = []\n",
    "with open('juvreal.json','r') as f:\n",
    "    \n",
    "    for line in f:\n",
    "        try:       \n",
    "            tweet = json.loads(line)\n",
    "            terms.append(word for word in tknzr.tokenize(tweet['text'])if word[0] == '#')   \n",
    "            time.append(tweet['created_at'])\n",
    "            language.append(tweet['lang'])\n",
    "            source.append(tweet['source'].split('</a>')[0].split()[-1])\n",
    "        except:\n",
    "            continue"
   ]
  },
  {
   "cell_type": "code",
   "execution_count": 12,
   "metadata": {},
   "outputs": [],
   "source": [
    "#data analysis with pandas and visualization with matplotlib\n",
    "\n",
    "import pandas as pd\n",
    "import numpy as np\n",
    "from datetime import datetime\n",
    "import matplotlib.pyplot as plt\n",
    "import matplotlib.dates as dates\n",
    "%matplotlib inline"
   ]
  },
  {
   "cell_type": "code",
   "execution_count": 18,
   "metadata": {},
   "outputs": [],
   "source": [
    "idx = pd.DatetimeIndex(time)\n",
    "hashtags = pd.DataFrame(data = terms,index = idx)"
   ]
  },
  {
   "cell_type": "code",
   "execution_count": 19,
   "metadata": {},
   "outputs": [
    {
     "data": {
      "text/html": [
       "<div>\n",
       "<style scoped>\n",
       "    .dataframe tbody tr th:only-of-type {\n",
       "        vertical-align: middle;\n",
       "    }\n",
       "\n",
       "    .dataframe tbody tr th {\n",
       "        vertical-align: top;\n",
       "    }\n",
       "\n",
       "    .dataframe thead th {\n",
       "        text-align: right;\n",
       "    }\n",
       "</style>\n",
       "<table border=\"1\" class=\"dataframe\">\n",
       "  <thead>\n",
       "    <tr style=\"text-align: right;\">\n",
       "      <th></th>\n",
       "      <th>0</th>\n",
       "      <th>1</th>\n",
       "      <th>2</th>\n",
       "      <th>3</th>\n",
       "      <th>4</th>\n",
       "      <th>5</th>\n",
       "      <th>6</th>\n",
       "      <th>7</th>\n",
       "      <th>8</th>\n",
       "      <th>9</th>\n",
       "      <th>10</th>\n",
       "      <th>11</th>\n",
       "    </tr>\n",
       "  </thead>\n",
       "  <tbody>\n",
       "    <tr>\n",
       "      <th>2018-04-03 20:38:19</th>\n",
       "      <td>#JuveReal</td>\n",
       "      <td>None</td>\n",
       "      <td>None</td>\n",
       "      <td>None</td>\n",
       "      <td>None</td>\n",
       "      <td>None</td>\n",
       "      <td>None</td>\n",
       "      <td>None</td>\n",
       "      <td>None</td>\n",
       "      <td>None</td>\n",
       "      <td>None</td>\n",
       "      <td>None</td>\n",
       "    </tr>\n",
       "    <tr>\n",
       "      <th>2018-04-03 20:38:19</th>\n",
       "      <td>None</td>\n",
       "      <td>None</td>\n",
       "      <td>None</td>\n",
       "      <td>None</td>\n",
       "      <td>None</td>\n",
       "      <td>None</td>\n",
       "      <td>None</td>\n",
       "      <td>None</td>\n",
       "      <td>None</td>\n",
       "      <td>None</td>\n",
       "      <td>None</td>\n",
       "      <td>None</td>\n",
       "    </tr>\n",
       "    <tr>\n",
       "      <th>2018-04-03 20:38:20</th>\n",
       "      <td>#Juventus</td>\n",
       "      <td>None</td>\n",
       "      <td>None</td>\n",
       "      <td>None</td>\n",
       "      <td>None</td>\n",
       "      <td>None</td>\n",
       "      <td>None</td>\n",
       "      <td>None</td>\n",
       "      <td>None</td>\n",
       "      <td>None</td>\n",
       "      <td>None</td>\n",
       "      <td>None</td>\n",
       "    </tr>\n",
       "    <tr>\n",
       "      <th>2018-04-03 20:38:20</th>\n",
       "      <td>None</td>\n",
       "      <td>None</td>\n",
       "      <td>None</td>\n",
       "      <td>None</td>\n",
       "      <td>None</td>\n",
       "      <td>None</td>\n",
       "      <td>None</td>\n",
       "      <td>None</td>\n",
       "      <td>None</td>\n",
       "      <td>None</td>\n",
       "      <td>None</td>\n",
       "      <td>None</td>\n",
       "    </tr>\n",
       "    <tr>\n",
       "      <th>2018-04-03 20:38:20</th>\n",
       "      <td>#JuveReal</td>\n",
       "      <td>None</td>\n",
       "      <td>None</td>\n",
       "      <td>None</td>\n",
       "      <td>None</td>\n",
       "      <td>None</td>\n",
       "      <td>None</td>\n",
       "      <td>None</td>\n",
       "      <td>None</td>\n",
       "      <td>None</td>\n",
       "      <td>None</td>\n",
       "      <td>None</td>\n",
       "    </tr>\n",
       "  </tbody>\n",
       "</table>\n",
       "</div>"
      ],
      "text/plain": [
       "                            0     1     2     3     4     5     6     7   \\\n",
       "2018-04-03 20:38:19  #JuveReal  None  None  None  None  None  None  None   \n",
       "2018-04-03 20:38:19       None  None  None  None  None  None  None  None   \n",
       "2018-04-03 20:38:20  #Juventus  None  None  None  None  None  None  None   \n",
       "2018-04-03 20:38:20       None  None  None  None  None  None  None  None   \n",
       "2018-04-03 20:38:20  #JuveReal  None  None  None  None  None  None  None   \n",
       "\n",
       "                       8     9     10    11  \n",
       "2018-04-03 20:38:19  None  None  None  None  \n",
       "2018-04-03 20:38:19  None  None  None  None  \n",
       "2018-04-03 20:38:20  None  None  None  None  \n",
       "2018-04-03 20:38:20  None  None  None  None  \n",
       "2018-04-03 20:38:20  None  None  None  None  "
      ]
     },
     "execution_count": 19,
     "metadata": {},
     "output_type": "execute_result"
    }
   ],
   "source": [
    "hashtags.head()"
   ]
  },
  {
   "cell_type": "code",
   "execution_count": 20,
   "metadata": {},
   "outputs": [],
   "source": [
    "bytime = hashtags.resample('T').count()"
   ]
  },
  {
   "cell_type": "code",
   "execution_count": 21,
   "metadata": {},
   "outputs": [],
   "source": [
    "timelabels = [ datetime.strptime(str(times),\"%Y-%m-%d %H:%M:%S\") for times in bytime.index]"
   ]
  },
  {
   "cell_type": "code",
   "execution_count": 22,
   "metadata": {},
   "outputs": [
    {
     "data": {
      "text/plain": [
       "Text(0.5,1,'Number of Tweets per minute')"
      ]
     },
     "execution_count": 22,
     "metadata": {},
     "output_type": "execute_result"
    },
    {
     "data": {
      "image/png": "[encoded data removed]",
      "text/plain": [
       "<matplotlib.figure.Figure at 0xdffc978>"
      ]
     },
     "metadata": {},
     "output_type": "display_data"
    }
   ],
   "source": [
    "fig, axes = plt.subplots(figsize = (12,6))\n",
    "\n",
    "minutes = dates.MinuteLocator()\n",
    "dfmt = dates.DateFormatter('%H:%M')\n",
    "x = timelabels\n",
    "y = bytime[0]\n",
    "\n",
    "axes.xaxis.set_major_locator(minutes)\n",
    "axes.xaxis.set_major_formatter(dfmt)\n",
    "    \n",
    "axes.set_xlim(timelabels[0],timelabels[-1])\n",
    "axes.plot(x,y,linewidth=2)\n",
    "axes.grid(True)\n",
    "fig.autofmt_xdate(rotation=55)\n",
    "\n",
    "axes.set_xlabel('Time')\n",
    "axes.set_ylabel('Number of Tweets')\n",
    "axes.set_title('Number of Tweets per minute')"
   ]
  },
  {
   "cell_type": "code",
   "execution_count": null,
   "metadata": {},
   "outputs": [],
   "source": []
  },
  {
   "cell_type": "code",
   "execution_count": 13,
   "metadata": {},
   "outputs": [],
   "source": [
    "lang = pd.DataFrame(data = language,columns=['language'])"
   ]
  },
  {
   "cell_type": "code",
   "execution_count": 14,
   "metadata": {},
   "outputs": [],
   "source": [
    "#list of languages supported by twitter\n",
    "\n",
    "lst = [('English (default)','en'),\n",
    "('Arabic','ar'),\n",
    "('Bengali','bn'),\n",
    "('Czech','cs'),\n",
    "('Danish','da'),\n",
    "('German','de'),\n",
    "('Greek','el'),\n",
    "('Spanish','es'),\n",
    "('Persian','fa'),\n",
    "('Finnish','fi'),\n",
    "('Filipino','fil'),\n",
    "('French','fr'),\n",
    "('Hebrew','he'),\n",
    "('Hindi','hi'),\n",
    "('Hungarian','hu'),\n",
    "('Indonesian','id'),\n",
    "('Italian','it'),\n",
    "('Japanese','ja'),\n",
    "('Korean','ko'),\n",
    "('Malay','msa'),\n",
    "('Dutch','nl'),\n",
    "('Norwegian','no'),\n",
    "('Polish','pl'),\n",
    "('Portuguese','pt'),\n",
    "('Romanian','ro'),\n",
    "('Russian','ru'),\n",
    "('Swedish','sv'),\n",
    "('Thai','th'),\n",
    "('Turkish','tr'),\n",
    "('Ukrainian','uk'),\n",
    "('Urdu','ur'),\n",
    "('Vietnamese','vi'),\n",
    "('Chinese (Simplified)','zh-cn'),\n",
    "('Chinese (Traditional)','zh-tw')]"
   ]
  },
  {
   "cell_type": "code",
   "execution_count": 15,
   "metadata": {},
   "outputs": [],
   "source": [
    "newlang = []\n",
    "lst2 = [l[1] for l in lst]\n",
    "for i in lang['language']:\n",
    "        if i in lst2:\n",
    "        \n",
    "            for j in lst:\n",
    "                if i == j[1]:\n",
    "                    newlang.append(j[0])\n",
    "        else:\n",
    "            newlang.append('other')"
   ]
  },
  {
   "cell_type": "code",
   "execution_count": 16,
   "metadata": {},
   "outputs": [],
   "source": [
    "lang['languages'] = newlang"
   ]
  },
  {
   "cell_type": "code",
   "execution_count": 17,
   "metadata": {},
   "outputs": [],
   "source": [
    "lang.columns = ['Abbreviation','languages']"
   ]
  },
  {
   "cell_type": "code",
   "execution_count": 18,
   "metadata": {},
   "outputs": [
    {
     "data": {
      "text/html": [
       "<div>\n",
       "<style scoped>\n",
       "    .dataframe tbody tr th:only-of-type {\n",
       "        vertical-align: middle;\n",
       "    }\n",
       "\n",
       "    .dataframe tbody tr th {\n",
       "        vertical-align: top;\n",
       "    }\n",
       "\n",
       "    .dataframe thead th {\n",
       "        text-align: right;\n",
       "    }\n",
       "</style>\n",
       "<table border=\"1\" class=\"dataframe\">\n",
       "  <thead>\n",
       "    <tr style=\"text-align: right;\">\n",
       "      <th></th>\n",
       "      <th>Abbreviation</th>\n",
       "      <th>languages</th>\n",
       "    </tr>\n",
       "  </thead>\n",
       "  <tbody>\n",
       "    <tr>\n",
       "      <th>0</th>\n",
       "      <td>in</td>\n",
       "      <td>other</td>\n",
       "    </tr>\n",
       "    <tr>\n",
       "      <th>1</th>\n",
       "      <td>es</td>\n",
       "      <td>Spanish</td>\n",
       "    </tr>\n",
       "    <tr>\n",
       "      <th>2</th>\n",
       "      <td>en</td>\n",
       "      <td>English (default)</td>\n",
       "    </tr>\n",
       "    <tr>\n",
       "      <th>3</th>\n",
       "      <td>in</td>\n",
       "      <td>other</td>\n",
       "    </tr>\n",
       "    <tr>\n",
       "      <th>4</th>\n",
       "      <td>it</td>\n",
       "      <td>Italian</td>\n",
       "    </tr>\n",
       "  </tbody>\n",
       "</table>\n",
       "</div>"
      ],
      "text/plain": [
       "  Abbreviation          languages\n",
       "0           in              other\n",
       "1           es            Spanish\n",
       "2           en  English (default)\n",
       "3           in              other\n",
       "4           it            Italian"
      ]
     },
     "execution_count": 18,
     "metadata": {},
     "output_type": "execute_result"
    }
   ],
   "source": [
    "lang.head()"
   ]
  },
  {
   "cell_type": "code",
   "execution_count": 19,
   "metadata": {},
   "outputs": [],
   "source": [
    "countlang = lang['languages'].value_counts()"
   ]
  },
  {
   "cell_type": "code",
   "execution_count": 20,
   "metadata": {},
   "outputs": [
    {
     "data": {
      "image/png": "[encoded data removed]",
      "text/plain": [
       "<matplotlib.figure.Figure at 0xbf00160>"
      ]
     },
     "metadata": {},
     "output_type": "display_data"
    }
   ],
   "source": [
    "fig, axes = plt.subplots(figsize=(12,6))\n",
    "axes.bar(x = countlang.index,height=countlang)\n",
    "axes.set_xlabel('Language')\n",
    "axes.set_ylabel('Language Count')\n",
    "axes.set_title('Number of Tweets in a specific Language')\n",
    "for tick in axes.get_xticklabels():\n",
    "    tick.set_rotation(90)"
   ]
  },
  {
   "cell_type": "code",
   "execution_count": null,
   "metadata": {},
   "outputs": [],
   "source": []
  },
  {
   "cell_type": "code",
   "execution_count": 24,
   "metadata": {},
   "outputs": [],
   "source": [
    "sourcedf = pd.DataFrame(data = source,columns = ['Source'])"
   ]
  },
  {
   "cell_type": "code",
   "execution_count": 25,
   "metadata": {},
   "outputs": [
    {
     "data": {
      "text/html": [
       "<div>\n",
       "<style scoped>\n",
       "    .dataframe tbody tr th:only-of-type {\n",
       "        vertical-align: middle;\n",
       "    }\n",
       "\n",
       "    .dataframe tbody tr th {\n",
       "        vertical-align: top;\n",
       "    }\n",
       "\n",
       "    .dataframe thead th {\n",
       "        text-align: right;\n",
       "    }\n",
       "</style>\n",
       "<table border=\"1\" class=\"dataframe\">\n",
       "  <thead>\n",
       "    <tr style=\"text-align: right;\">\n",
       "      <th></th>\n",
       "      <th>Source</th>\n",
       "    </tr>\n",
       "  </thead>\n",
       "  <tbody>\n",
       "    <tr>\n",
       "      <th>0</th>\n",
       "      <td>iPhone</td>\n",
       "    </tr>\n",
       "    <tr>\n",
       "      <th>1</th>\n",
       "      <td>Android</td>\n",
       "    </tr>\n",
       "    <tr>\n",
       "      <th>2</th>\n",
       "      <td>Android</td>\n",
       "    </tr>\n",
       "    <tr>\n",
       "      <th>3</th>\n",
       "      <td>Android</td>\n",
       "    </tr>\n",
       "    <tr>\n",
       "      <th>4</th>\n",
       "      <td>Android</td>\n",
       "    </tr>\n",
       "  </tbody>\n",
       "</table>\n",
       "</div>"
      ],
      "text/plain": [
       "    Source\n",
       "0   iPhone\n",
       "1  Android\n",
       "2  Android\n",
       "3  Android\n",
       "4  Android"
      ]
     },
     "execution_count": 25,
     "metadata": {},
     "output_type": "execute_result"
    }
   ],
   "source": [
    "sourcedf.head()"
   ]
  },
  {
   "cell_type": "code",
   "execution_count": 28,
   "metadata": {},
   "outputs": [
    {
     "data": {
      "text/plain": [
       "Android    8141\n",
       "iPhone     6524\n",
       "Client     1703\n",
       "Lite        588\n",
       "iPad        434\n",
       "Name: Source, dtype: int64"
      ]
     },
     "execution_count": 28,
     "metadata": {},
     "output_type": "execute_result"
    }
   ],
   "source": [
    "sourcedf['Source'].value_counts().head(5)"
   ]
  },
  {
   "cell_type": "code",
   "execution_count": 70,
   "metadata": {},
   "outputs": [],
   "source": [
    "check = ['Android','iPhone','Client',]"
   ]
  },
  {
   "cell_type": "code",
   "execution_count": null,
   "metadata": {},
   "outputs": [],
   "source": []
  }
 ],
 "metadata": {
  "kernelspec": {
   "display_name": "Python [default]",
   "language": "python",
   "name": "python3"
  },
  "language_info": {
   "codemirror_mode": {
    "name": "ipython",
    "version": 3
   },
   "file_extension": ".py",
   "mimetype": "text/x-python",
   "name": "python",
   "nbconvert_exporter": "python",
   "pygments_lexer": "ipython3",
   "version": "3.5.4"
  }
 },
 "nbformat": 4,
 "nbformat_minor": 2
}
